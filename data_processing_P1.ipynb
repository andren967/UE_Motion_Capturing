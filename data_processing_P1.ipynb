{
 "cells": [
  {
   "cell_type": "code",
   "execution_count": 2,
   "metadata": {},
   "outputs": [],
   "source": [
    "#Import of used Packages\n",
    "import pandas as pd\n",
    "import matplotlib.pyplot as plt"
   ]
  },
  {
   "cell_type": "code",
   "execution_count": 3,
   "metadata": {},
   "outputs": [],
   "source": [
    "p1 = pd.read_csv(\"../UE_Motion_Capture/data_export/walking_music_P1_pos.tsv\",delimiter=\"\\t\",usecols=[\"RHeel_pos_Z\",\"LHeel_pos_Z\"])"
   ]
  },
  {
   "cell_type": "code",
   "execution_count": 7,
   "metadata": {},
   "outputs": [
    {
     "data": {
      "text/plain": [
       "{'whiskers': [<matplotlib.lines.Line2D at 0x1fa697786d0>,\n",
       "  <matplotlib.lines.Line2D at 0x1fa69779310>],\n",
       " 'caps': [<matplotlib.lines.Line2D at 0x1fa6977a110>,\n",
       "  <matplotlib.lines.Line2D at 0x1fa6977ad10>],\n",
       " 'boxes': [<matplotlib.lines.Line2D at 0x1fa69763650>],\n",
       " 'medians': [<matplotlib.lines.Line2D at 0x1fa6977b890>],\n",
       " 'fliers': [<matplotlib.lines.Line2D at 0x1fa697883d0>],\n",
       " 'means': []}"
      ]
     },
     "execution_count": 7,
     "metadata": {},
     "output_type": "execute_result"
    },
    {
     "data": {
      "image/png": "[encoded data removed]",
      "text/plain": [
       "<Figure size 640x480 with 1 Axes>"
      ]
     },
     "metadata": {},
     "output_type": "display_data"
    }
   ],
   "source": [
    "plt.boxplot(p1[\"RHeel_pos_Z\"])"
   ]
  },
  {
   "cell_type": "code",
   "execution_count": 9,
   "metadata": {},
   "outputs": [
    {
     "name": "stdout",
     "output_type": "stream",
     "text": [
      "R -  208 :  56.716\n",
      "R -  330 :  58.568\n",
      "R -  331 :  58.557\n",
      "R -  448 :  55.451\n",
      "R -  569 :  55.415\n",
      "R -  570 :  55.4\n",
      "R -  680 :  55.935\n",
      "R -  796 :  62.007\n",
      "R -  909 :  65.121\n",
      "R -  910 :  65.077\n",
      "R -  1024 :  63.527\n",
      "R -  1134 :  63.429\n",
      "R -  1135 :  63.326\n",
      "R -  1254 :  63.448\n",
      "R -  1363 :  56.085\n",
      "R -  1472 :  56.853\n",
      "R -  1588 :  56.268\n",
      "R -  1704 :  53.965\n",
      "R -  1705 :  53.922\n",
      "R -  1822 :  58.051\n",
      "R -  1823 :  57.741\n",
      "R -  1932 :  58.778\n",
      "R -  2045 :  65.314\n",
      "R -  2160 :  61.662\n",
      "R -  2277 :  63.734\n",
      "R -  2399 :  64.702\n",
      "R -  2400 :  64.44\n",
      "R -  2513 :  58.463\n",
      "R -  2630 :  55.685\n",
      "R -  2631 :  55.672\n",
      "R -  2747 :  57.299\n",
      "R -  2748 :  57.278\n",
      "R -  2875 :  51.744\n",
      "R -  2994 :  52.986\n",
      "R -  3110 :  56.6\n",
      "R -  3230 :  61.243\n",
      "R -  3351 :  63.133\n",
      "R -  3488 :  58.706\n",
      "R -  3627 :  60.048\n",
      "R -  3763 :  53.966\n",
      "R -  3898 :  54.497\n",
      "R -  3899 :  54.187\n",
      "R -  4032 :  53.681\n",
      "R -  4170 :  52.181\n",
      "R -  4304 :  55.286\n",
      "R -  4305 :  55.272\n",
      "R -  4437 :  59.538\n",
      "R -  4564 :  66.483\n",
      "R -  4693 :  60.313\n",
      "R -  4818 :  62.353\n",
      "R -  4819 :  62.204\n",
      "R -  4945 :  60.167\n",
      "R -  4946 :  60.151\n",
      "R -  5066 :  57.465\n",
      "R -  5187 :  57.731\n",
      "R -  5316 :  54.313\n",
      "R -  5439 :  52.531\n",
      "R -  5561 :  52.896\n",
      "R -  5678 :  62.26\n",
      "R -  5795 :  65.658\n",
      "R -  5796 :  65.577\n",
      "R -  5920 :  61.344\n",
      "R -  6040 :  66.267\n",
      "R -  6149 :  57.912\n",
      "R -  6266 :  54.923\n",
      "R -  6382 :  57.542\n",
      "R -  6502 :  56.448\n",
      "R -  6503 :  56.388\n",
      "R -  6619 :  50.996\n",
      "R -  6735 :  55.622\n",
      "R -  6736 :  55.537\n",
      "R -  6849 :  61.721\n",
      "R -  6968 :  64.74\n",
      "R -  7089 :  61.872\n",
      "R -  7209 :  64.423\n",
      "R -  7210 :  64.351\n",
      "R -  7331 :  60.398\n",
      "R -  7332 :  60.355\n",
      "R -  7447 :  58.059\n",
      "R -  7448 :  57.563\n",
      "R -  7563 :  57.234\n",
      "R -  7564 :  57.09\n",
      "R -  7684 :  53.588\n",
      "R -  7685 :  53.541\n",
      "R -  7806 :  51.126\n",
      "R -  7935 :  54.686\n",
      "R -  8062 :  59.831\n",
      "R -  8191 :  62.447\n",
      "R -  8321 :  58.944\n",
      "R -  8453 :  60.395\n",
      "R -  8579 :  56.581\n",
      "R -  8580 :  56.452\n",
      "R -  8708 :  54.234\n",
      "R -  8837 :  55.547\n",
      "R -  8967 :  51.068\n",
      "R -  8968 :  50.574\n",
      "R -  9092 :  55.664\n",
      "R -  9093 :  55.135\n",
      "R -  9219 :  60.402\n",
      "R -  9350 :  63.153\n",
      "R -  9483 :  58.85\n",
      "R -  9612 :  62.747\n",
      "R -  9742 :  60.848\n"
     ]
    }
   ],
   "source": [
    "#Calculation of right foot steps\n",
    "Rsteps = []\n",
    "frame = 1\n",
    "for index, values in p1.iterrows():\n",
    "    RValue = values[\"RHeel_pos_Z\"]\n",
    "    if frame < 150:\n",
    "        frame += 1\n",
    "        continue\n",
    "    if RValue < 70:\n",
    "        for i in range(1,80):\n",
    "            breakpoint()\n",
    "            before = p1.loc[frame-i,\"RHeel_pos_Z\"]\n",
    "            next = p1.loc[frame+i,\"RHeel_pos_Z\"]\n",
    "            if (RValue <= before) and (RValue <= next):\n",
    "                bValley = True\n",
    "            else:\n",
    "                bValley = False\n",
    "                break\n",
    "        if bValley:\n",
    "            print(\"R - \", frame, \": \", RValue)\n",
    "            Rsteps.append([frame,RValue])\n",
    "    frame += 1"
   ]
  },
  {
   "cell_type": "code",
   "execution_count": 10,
   "metadata": {},
   "outputs": [
    {
     "name": "stdout",
     "output_type": "stream",
     "text": [
      "L -  270 :  49.137\n",
      "L -  390 :  51.579\n",
      "L -  507 :  47.703\n",
      "L -  622 :  50.44\n",
      "L -  738 :  56.161\n",
      "L -  739 :  55.805\n",
      "L -  855 :  58.695\n",
      "L -  967 :  60.866\n",
      "L -  1079 :  58.084\n",
      "L -  1192 :  56.561\n",
      "L -  1307 :  54.378\n",
      "L -  1418 :  48.198\n",
      "L -  1531 :  52.609\n",
      "L -  1647 :  49.356\n",
      "L -  1761 :  49.507\n",
      "L -  1876 :  55.999\n",
      "L -  1989 :  59.405\n",
      "L -  2105 :  61.223\n",
      "L -  2219 :  60.002\n",
      "L -  2220 :  59.521\n",
      "L -  2337 :  58.768\n",
      "L -  2338 :  58.528\n",
      "L -  2453 :  55.751\n",
      "L -  2574 :  53.146\n",
      "L -  2688 :  53.185\n",
      "L -  2689 :  53.092\n",
      "L -  2812 :  50.381\n",
      "L -  2937 :  47.799\n",
      "L -  3054 :  52.05\n",
      "L -  3055 :  51.812\n",
      "L -  3171 :  55.512\n",
      "L -  3291 :  56.555\n",
      "L -  3292 :  55.758\n",
      "L -  3419 :  58.445\n",
      "L -  3560 :  55.255\n",
      "L -  3694 :  52.645\n",
      "L -  3830 :  45.817\n",
      "L -  3965 :  51.212\n",
      "L -  3966 :  51.212\n",
      "L -  4100 :  45.275\n",
      "L -  4239 :  48.478\n",
      "L -  4374 :  55.03\n",
      "L -  4498 :  56.64\n",
      "L -  4625 :  58.673\n",
      "L -  4626 :  58.472\n",
      "L -  4756 :  58.169\n",
      "L -  4884 :  57.788\n",
      "L -  5004 :  55.091\n",
      "L -  5005 :  54.96\n",
      "L -  5125 :  49.083\n",
      "L -  5126 :  48.691\n",
      "L -  5251 :  52.786\n",
      "L -  5377 :  48.364\n",
      "L -  5504 :  48.734\n",
      "L -  5623 :  54.445\n",
      "L -  5737 :  58.438\n",
      "L -  5857 :  58.645\n",
      "L -  5981 :  56.451\n",
      "L -  6095 :  56.728\n",
      "L -  6207 :  52.966\n",
      "L -  6324 :  47.979\n",
      "L -  6445 :  51.637\n",
      "L -  6446 :  51.335\n",
      "L -  6561 :  47.827\n",
      "L -  6679 :  50.101\n",
      "L -  6680 :  49.954\n",
      "L -  6791 :  55.408\n",
      "L -  6792 :  55.34\n",
      "L -  6908 :  57.093\n",
      "L -  7029 :  60.364\n",
      "L -  7030 :  60.074\n",
      "L -  7152 :  59.167\n",
      "L -  7269 :  58.886\n",
      "L -  7389 :  54.243\n",
      "L -  7505 :  48.981\n",
      "L -  7626 :  50.998\n",
      "L -  7746 :  47.345\n",
      "L -  7868 :  48.545\n",
      "L -  7997 :  55.195\n",
      "L -  8127 :  59.329\n",
      "L -  8128 :  59.007\n",
      "L -  8253 :  58.783\n",
      "L -  8382 :  58.115\n",
      "L -  8518 :  52.999\n",
      "L -  8643 :  47.534\n",
      "L -  8772 :  49.691\n",
      "L -  8901 :  46.823\n",
      "L -  9028 :  48.239\n",
      "L -  9156 :  52.855\n",
      "L -  9284 :  55.146\n",
      "L -  9417 :  59.028\n",
      "L -  9418 :  58.944\n",
      "L -  9546 :  57.439\n",
      "L -  9676 :  56.266\n"
     ]
    }
   ],
   "source": [
    "#Calculation of left foot steps\n",
    "LSteps = []\n",
    "frame = 1\n",
    "for index, values in p1.iterrows():\n",
    "    LValue = values[\"LHeel_pos_Z\"]\n",
    "    if frame < 150:\n",
    "        frame += 1\n",
    "        continue\n",
    "    if LValue < 70:\n",
    "        for i in range(1,80):\n",
    "            before = p1.loc[frame-i,\"LHeel_pos_Z\"]\n",
    "            next = p1.loc[frame+i,\"LHeel_pos_Z\"]\n",
    "            if (LValue <= before) and (LValue <= next):\n",
    "                bValley = True\n",
    "            else:\n",
    "                bValley = False\n",
    "                break\n",
    "        if bValley:\n",
    "            print(\"L - \", frame, \": \", LValue)\n",
    "            LSteps.append([frame,LValue])\n",
    "    frame += 1"
   ]
  },
  {
   "cell_type": "code",
   "execution_count": 11,
   "metadata": {},
   "outputs": [
    {
     "data": {
      "text/plain": [
       "94"
      ]
     },
     "execution_count": 11,
     "metadata": {},
     "output_type": "execute_result"
    }
   ],
   "source": [
    "len(LSteps)"
   ]
  },
  {
   "cell_type": "code",
   "execution_count": 12,
   "metadata": {},
   "outputs": [
    {
     "data": {
      "text/plain": [
       "103"
      ]
     },
     "execution_count": 12,
     "metadata": {},
     "output_type": "execute_result"
    }
   ],
   "source": [
    "len(Rsteps)"
   ]
  },
  {
   "cell_type": "code",
   "execution_count": 13,
   "metadata": {},
   "outputs": [],
   "source": [
    "#Combination of steps\n",
    "steps2 = LSteps + Rsteps\n",
    "steps2.sort()"
   ]
  },
  {
   "cell_type": "code",
   "execution_count": 14,
   "metadata": {},
   "outputs": [
    {
     "data": {
      "text/plain": [
       "[[208, 56.716],\n",
       " [270, 49.137],\n",
       " [330, 58.568],\n",
       " [331, 58.557],\n",
       " [390, 51.579],\n",
       " [448, 55.451],\n",
       " [507, 47.703],\n",
       " [569, 55.415],\n",
       " [570, 55.4],\n",
       " [622, 50.44],\n",
       " [680, 55.935],\n",
       " [738, 56.161],\n",
       " [739, 55.805],\n",
       " [796, 62.007],\n",
       " [855, 58.695],\n",
       " [909, 65.121],\n",
       " [910, 65.077],\n",
       " [967, 60.866],\n",
       " [1024, 63.527],\n",
       " [1079, 58.084],\n",
       " [1134, 63.429],\n",
       " [1135, 63.326],\n",
       " [1192, 56.561],\n",
       " [1254, 63.448],\n",
       " [1307, 54.378],\n",
       " [1363, 56.085],\n",
       " [1418, 48.198],\n",
       " [1472, 56.853],\n",
       " [1531, 52.609],\n",
       " [1588, 56.268],\n",
       " [1647, 49.356],\n",
       " [1704, 53.965],\n",
       " [1705, 53.922],\n",
       " [1761, 49.507],\n",
       " [1822, 58.051],\n",
       " [1823, 57.741],\n",
       " [1876, 55.999],\n",
       " [1932, 58.778],\n",
       " [1989, 59.405],\n",
       " [2045, 65.314],\n",
       " [2105, 61.223],\n",
       " [2160, 61.662],\n",
       " [2219, 60.002],\n",
       " [2220, 59.521],\n",
       " [2277, 63.734],\n",
       " [2337, 58.768],\n",
       " [2338, 58.528],\n",
       " [2399, 64.702],\n",
       " [2400, 64.44],\n",
       " [2453, 55.751],\n",
       " [2513, 58.463],\n",
       " [2574, 53.146],\n",
       " [2630, 55.685],\n",
       " [2631, 55.672],\n",
       " [2688, 53.185],\n",
       " [2689, 53.092],\n",
       " [2747, 57.299],\n",
       " [2748, 57.278],\n",
       " [2812, 50.381],\n",
       " [2875, 51.744],\n",
       " [2937, 47.799],\n",
       " [2994, 52.986],\n",
       " [3054, 52.05],\n",
       " [3055, 51.812],\n",
       " [3110, 56.6],\n",
       " [3171, 55.512],\n",
       " [3230, 61.243],\n",
       " [3291, 56.555],\n",
       " [3292, 55.758],\n",
       " [3351, 63.133],\n",
       " [3419, 58.445],\n",
       " [3488, 58.706],\n",
       " [3560, 55.255],\n",
       " [3627, 60.048],\n",
       " [3694, 52.645],\n",
       " [3763, 53.966],\n",
       " [3830, 45.817],\n",
       " [3898, 54.497],\n",
       " [3899, 54.187],\n",
       " [3965, 51.212],\n",
       " [3966, 51.212],\n",
       " [4032, 53.681],\n",
       " [4100, 45.275],\n",
       " [4170, 52.181],\n",
       " [4239, 48.478],\n",
       " [4304, 55.286],\n",
       " [4305, 55.272],\n",
       " [4374, 55.03],\n",
       " [4437, 59.538],\n",
       " [4498, 56.64],\n",
       " [4564, 66.483],\n",
       " [4625, 58.673],\n",
       " [4626, 58.472],\n",
       " [4693, 60.313],\n",
       " [4756, 58.169],\n",
       " [4818, 62.353],\n",
       " [4819, 62.204],\n",
       " [4884, 57.788],\n",
       " [4945, 60.167],\n",
       " [4946, 60.151],\n",
       " [5004, 55.091],\n",
       " [5005, 54.96],\n",
       " [5066, 57.465],\n",
       " [5125, 49.083],\n",
       " [5126, 48.691],\n",
       " [5187, 57.731],\n",
       " [5251, 52.786],\n",
       " [5316, 54.313],\n",
       " [5377, 48.364],\n",
       " [5439, 52.531],\n",
       " [5504, 48.734],\n",
       " [5561, 52.896],\n",
       " [5623, 54.445],\n",
       " [5678, 62.26],\n",
       " [5737, 58.438],\n",
       " [5795, 65.658],\n",
       " [5796, 65.577],\n",
       " [5857, 58.645],\n",
       " [5920, 61.344],\n",
       " [5981, 56.451],\n",
       " [6040, 66.267],\n",
       " [6095, 56.728],\n",
       " [6149, 57.912],\n",
       " [6207, 52.966],\n",
       " [6266, 54.923],\n",
       " [6324, 47.979],\n",
       " [6382, 57.542],\n",
       " [6445, 51.637],\n",
       " [6446, 51.335],\n",
       " [6502, 56.448],\n",
       " [6503, 56.388],\n",
       " [6561, 47.827],\n",
       " [6619, 50.996],\n",
       " [6679, 50.101],\n",
       " [6680, 49.954],\n",
       " [6735, 55.622],\n",
       " [6736, 55.537],\n",
       " [6791, 55.408],\n",
       " [6792, 55.34],\n",
       " [6849, 61.721],\n",
       " [6908, 57.093],\n",
       " [6968, 64.74],\n",
       " [7029, 60.364],\n",
       " [7030, 60.074],\n",
       " [7089, 61.872],\n",
       " [7152, 59.167],\n",
       " [7209, 64.423],\n",
       " [7210, 64.351],\n",
       " [7269, 58.886],\n",
       " [7331, 60.398],\n",
       " [7332, 60.355],\n",
       " [7389, 54.243],\n",
       " [7447, 58.059],\n",
       " [7448, 57.563],\n",
       " [7505, 48.981],\n",
       " [7563, 57.234],\n",
       " [7564, 57.09],\n",
       " [7626, 50.998],\n",
       " [7684, 53.588],\n",
       " [7685, 53.541],\n",
       " [7746, 47.345],\n",
       " [7806, 51.126],\n",
       " [7868, 48.545],\n",
       " [7935, 54.686],\n",
       " [7997, 55.195],\n",
       " [8062, 59.831],\n",
       " [8127, 59.329],\n",
       " [8128, 59.007],\n",
       " [8191, 62.447],\n",
       " [8253, 58.783],\n",
       " [8321, 58.944],\n",
       " [8382, 58.115],\n",
       " [8453, 60.395],\n",
       " [8518, 52.999],\n",
       " [8579, 56.581],\n",
       " [8580, 56.452],\n",
       " [8643, 47.534],\n",
       " [8708, 54.234],\n",
       " [8772, 49.691],\n",
       " [8837, 55.547],\n",
       " [8901, 46.823],\n",
       " [8967, 51.068],\n",
       " [8968, 50.574],\n",
       " [9028, 48.239],\n",
       " [9092, 55.664],\n",
       " [9093, 55.135],\n",
       " [9156, 52.855],\n",
       " [9219, 60.402],\n",
       " [9284, 55.146],\n",
       " [9350, 63.153],\n",
       " [9417, 59.028],\n",
       " [9418, 58.944],\n",
       " [9483, 58.85],\n",
       " [9546, 57.439],\n",
       " [9612, 62.747],\n",
       " [9676, 56.266],\n",
       " [9742, 60.848]]"
      ]
     },
     "execution_count": 14,
     "metadata": {},
     "output_type": "execute_result"
    }
   ],
   "source": [
    "steps2"
   ]
  },
  {
   "cell_type": "code",
   "execution_count": 15,
   "metadata": {},
   "outputs": [
    {
     "data": {
      "text/plain": [
       "197"
      ]
     },
     "execution_count": 15,
     "metadata": {},
     "output_type": "execute_result"
    }
   ],
   "source": [
    "len(steps2)"
   ]
  },
  {
   "cell_type": "code",
   "execution_count": 16,
   "metadata": {},
   "outputs": [
    {
     "data": {
      "text/html": [
       "<div>\n",
       "<style scoped>\n",
       "    .dataframe tbody tr th:only-of-type {\n",
       "        vertical-align: middle;\n",
       "    }\n",
       "\n",
       "    .dataframe tbody tr th {\n",
       "        vertical-align: top;\n",
       "    }\n",
       "\n",
       "    .dataframe thead th {\n",
       "        text-align: right;\n",
       "    }\n",
       "</style>\n",
       "<table border=\"1\" class=\"dataframe\">\n",
       "  <thead>\n",
       "    <tr style=\"text-align: right;\">\n",
       "      <th></th>\n",
       "      <th>0</th>\n",
       "      <th>1</th>\n",
       "    </tr>\n",
       "  </thead>\n",
       "  <tbody>\n",
       "    <tr>\n",
       "      <th>0</th>\n",
       "      <td>208</td>\n",
       "      <td>56.716</td>\n",
       "    </tr>\n",
       "    <tr>\n",
       "      <th>1</th>\n",
       "      <td>270</td>\n",
       "      <td>49.137</td>\n",
       "    </tr>\n",
       "    <tr>\n",
       "      <th>2</th>\n",
       "      <td>330</td>\n",
       "      <td>58.568</td>\n",
       "    </tr>\n",
       "    <tr>\n",
       "      <th>3</th>\n",
       "      <td>331</td>\n",
       "      <td>58.557</td>\n",
       "    </tr>\n",
       "    <tr>\n",
       "      <th>4</th>\n",
       "      <td>390</td>\n",
       "      <td>51.579</td>\n",
       "    </tr>\n",
       "    <tr>\n",
       "      <th>...</th>\n",
       "      <td>...</td>\n",
       "      <td>...</td>\n",
       "    </tr>\n",
       "    <tr>\n",
       "      <th>192</th>\n",
       "      <td>9483</td>\n",
       "      <td>58.850</td>\n",
       "    </tr>\n",
       "    <tr>\n",
       "      <th>193</th>\n",
       "      <td>9546</td>\n",
       "      <td>57.439</td>\n",
       "    </tr>\n",
       "    <tr>\n",
       "      <th>194</th>\n",
       "      <td>9612</td>\n",
       "      <td>62.747</td>\n",
       "    </tr>\n",
       "    <tr>\n",
       "      <th>195</th>\n",
       "      <td>9676</td>\n",
       "      <td>56.266</td>\n",
       "    </tr>\n",
       "    <tr>\n",
       "      <th>196</th>\n",
       "      <td>9742</td>\n",
       "      <td>60.848</td>\n",
       "    </tr>\n",
       "  </tbody>\n",
       "</table>\n",
       "<p>197 rows × 2 columns</p>\n",
       "</div>"
      ],
      "text/plain": [
       "        0       1\n",
       "0     208  56.716\n",
       "1     270  49.137\n",
       "2     330  58.568\n",
       "3     331  58.557\n",
       "4     390  51.579\n",
       "..    ...     ...\n",
       "192  9483  58.850\n",
       "193  9546  57.439\n",
       "194  9612  62.747\n",
       "195  9676  56.266\n",
       "196  9742  60.848\n",
       "\n",
       "[197 rows x 2 columns]"
      ]
     },
     "execution_count": 16,
     "metadata": {},
     "output_type": "execute_result"
    }
   ],
   "source": [
    "df = pd.DataFrame(steps2)\n",
    "df"
   ]
  },
  {
   "cell_type": "code",
   "execution_count": 17,
   "metadata": {},
   "outputs": [],
   "source": [
    "#df[0] = df[0].div(100)"
   ]
  },
  {
   "cell_type": "code",
   "execution_count": 18,
   "metadata": {},
   "outputs": [],
   "source": [
    "m1 = pd.read_csv(\"../UE_Motion_Capture/music/export_big_john.txt\",delimiter=\"\\t\", header=None)"
   ]
  },
  {
   "cell_type": "code",
   "execution_count": 19,
   "metadata": {},
   "outputs": [],
   "source": [
    "m1[0] = (m1[0]*100)+2630"
   ]
  },
  {
   "cell_type": "code",
   "execution_count": 28,
   "metadata": {},
   "outputs": [],
   "source": [
    "m1[3]=45"
   ]
  },
  {
   "cell_type": "code",
   "execution_count": 29,
   "metadata": {},
   "outputs": [
    {
     "data": {
      "text/plain": [
       "[<matplotlib.lines.Line2D at 0x1fb75508250>]"
      ]
     },
     "execution_count": 29,
     "metadata": {},
     "output_type": "execute_result"
    },
    {
     "data": {
      "image/png": "[encoded data removed]",
      "text/plain": [
       "<Figure size 640x480 with 1 Axes>"
      ]
     },
     "metadata": {},
     "output_type": "display_data"
    }
   ],
   "source": [
    "plt.plot(m1[0],m1[3],'x')"
   ]
  },
  {
   "cell_type": "code",
   "execution_count": 20,
   "metadata": {},
   "outputs": [
    {
     "data": {
      "text/plain": [
       "(2500.0, 5500.0)"
      ]
     },
     "execution_count": 20,
     "metadata": {},
     "output_type": "execute_result"
    },
    {
     "data": {
      "image/png": "[encoded data removed]",
      "text/plain": [
       "<Figure size 2000x300 with 1 Axes>"
      ]
     },
     "metadata": {},
     "output_type": "display_data"
    }
   ],
   "source": [
    "plt.figure(figsize=(20,3))\n",
    "plt.plot(p1)\n",
    "plt.plot(df[0],df[1],'bo')\n",
    "#plt.plot(m1[0],m1[3],'x')\n",
    "plt.vlines(m1[0],0,500)\n",
    "plt.ylim([45, 70])\n",
    "plt.xlim([2500, 5500])"
   ]
  },
  {
   "cell_type": "code",
   "execution_count": 327,
   "metadata": {},
   "outputs": [
    {
     "data": {
      "text/plain": [
       "9834"
      ]
     },
     "execution_count": 327,
     "metadata": {},
     "output_type": "execute_result"
    }
   ],
   "source": [
    "p1[\"RHeel_pos_Z\"].count()"
   ]
  },
  {
   "cell_type": "code",
   "execution_count": 276,
   "metadata": {},
   "outputs": [
    {
     "data": {
      "text/plain": [
       "98.23062843197071"
      ]
     },
     "execution_count": 276,
     "metadata": {},
     "output_type": "execute_result"
    }
   ],
   "source": [
    "(len(steps2)/p1[\"RHeel_pos_Z\"].count())*100*60"
   ]
  },
  {
   "cell_type": "code",
   "execution_count": 331,
   "metadata": {},
   "outputs": [
    {
     "data": {
      "text/plain": [
       "{'whiskers': [<matplotlib.lines.Line2D at 0x23833351c90>,\n",
       "  <matplotlib.lines.Line2D at 0x2382f7be790>],\n",
       " 'caps': [<matplotlib.lines.Line2D at 0x2383161c110>,\n",
       "  <matplotlib.lines.Line2D at 0x238344208d0>],\n",
       " 'boxes': [<matplotlib.lines.Line2D at 0x238211e8cd0>],\n",
       " 'medians': [<matplotlib.lines.Line2D at 0x23831892fd0>],\n",
       " 'fliers': [<matplotlib.lines.Line2D at 0x23831892ed0>],\n",
       " 'means': []}"
      ]
     },
     "execution_count": 331,
     "metadata": {},
     "output_type": "execute_result"
    },
    {
     "data": {
      "image/png": "[encoded data removed]",
      "text/plain": [
       "<Figure size 640x480 with 1 Axes>"
      ]
     },
     "metadata": {},
     "output_type": "display_data"
    }
   ],
   "source": [
    "plt.boxplot(p1[\"LHeel_pos_Z\"])"
   ]
  },
  {
   "cell_type": "code",
   "execution_count": 12,
   "metadata": {},
   "outputs": [],
   "source": [
    "m1 = pd.read_csv(\"../UE_Motion_Capture/music/export_big_john.txt\",sep=\"\\t\",header=None)"
   ]
  },
  {
   "cell_type": "code",
   "execution_count": 18,
   "metadata": {},
   "outputs": [],
   "source": [
    "m1.drop(index=m1.index[0], axis=0, inplace=True)"
   ]
  },
  {
   "cell_type": "code",
   "execution_count": 19,
   "metadata": {},
   "outputs": [
    {
     "data": {
      "text/html": [
       "<div>\n",
       "<style scoped>\n",
       "    .dataframe tbody tr th:only-of-type {\n",
       "        vertical-align: middle;\n",
       "    }\n",
       "\n",
       "    .dataframe tbody tr th {\n",
       "        vertical-align: top;\n",
       "    }\n",
       "\n",
       "    .dataframe thead th {\n",
       "        text-align: right;\n",
       "    }\n",
       "</style>\n",
       "<table border=\"1\" class=\"dataframe\">\n",
       "  <thead>\n",
       "    <tr style=\"text-align: right;\">\n",
       "      <th></th>\n",
       "      <th>0</th>\n",
       "      <th>1</th>\n",
       "      <th>2</th>\n",
       "    </tr>\n",
       "  </thead>\n",
       "  <tbody>\n",
       "    <tr>\n",
       "      <th>1</th>\n",
       "      <td>1.503492</td>\n",
       "      <td>87.5927</td>\n",
       "      <td>87.5927BPM</td>\n",
       "    </tr>\n",
       "    <tr>\n",
       "      <th>2</th>\n",
       "      <td>2.188481</td>\n",
       "      <td>87.5927</td>\n",
       "      <td>87.5927BPM</td>\n",
       "    </tr>\n",
       "    <tr>\n",
       "      <th>3</th>\n",
       "      <td>2.873469</td>\n",
       "      <td>87.5927</td>\n",
       "      <td>87.5927BPM</td>\n",
       "    </tr>\n",
       "    <tr>\n",
       "      <th>4</th>\n",
       "      <td>3.558458</td>\n",
       "      <td>87.5927</td>\n",
       "      <td>87.5927BPM</td>\n",
       "    </tr>\n",
       "    <tr>\n",
       "      <th>5</th>\n",
       "      <td>4.220227</td>\n",
       "      <td>90.6661</td>\n",
       "      <td>90.6661BPM</td>\n",
       "    </tr>\n",
       "    <tr>\n",
       "      <th>6</th>\n",
       "      <td>4.893605</td>\n",
       "      <td>89.1029</td>\n",
       "      <td>89.1029BPM</td>\n",
       "    </tr>\n",
       "    <tr>\n",
       "      <th>7</th>\n",
       "      <td>5.566984</td>\n",
       "      <td>89.1029</td>\n",
       "      <td>89.1029BPM</td>\n",
       "    </tr>\n",
       "    <tr>\n",
       "      <th>8</th>\n",
       "      <td>6.263583</td>\n",
       "      <td>86.1328</td>\n",
       "      <td>86.1328BPM</td>\n",
       "    </tr>\n",
       "    <tr>\n",
       "      <th>9</th>\n",
       "      <td>6.948571</td>\n",
       "      <td>87.5927</td>\n",
       "      <td>87.5927BPM</td>\n",
       "    </tr>\n",
       "    <tr>\n",
       "      <th>10</th>\n",
       "      <td>7.633560</td>\n",
       "      <td>87.5927</td>\n",
       "      <td>87.5927BPM</td>\n",
       "    </tr>\n",
       "    <tr>\n",
       "      <th>11</th>\n",
       "      <td>8.318549</td>\n",
       "      <td>87.5927</td>\n",
       "      <td>87.5927BPM</td>\n",
       "    </tr>\n",
       "    <tr>\n",
       "      <th>12</th>\n",
       "      <td>8.980317</td>\n",
       "      <td>90.6661</td>\n",
       "      <td>90.6661BPM</td>\n",
       "    </tr>\n",
       "    <tr>\n",
       "      <th>13</th>\n",
       "      <td>9.653696</td>\n",
       "      <td>89.1029</td>\n",
       "      <td>89.1029BPM</td>\n",
       "    </tr>\n",
       "    <tr>\n",
       "      <th>14</th>\n",
       "      <td>10.327075</td>\n",
       "      <td>89.1029</td>\n",
       "      <td>89.1029BPM</td>\n",
       "    </tr>\n",
       "    <tr>\n",
       "      <th>15</th>\n",
       "      <td>10.977234</td>\n",
       "      <td>92.2852</td>\n",
       "      <td>92.2852BPM</td>\n",
       "    </tr>\n",
       "    <tr>\n",
       "      <th>16</th>\n",
       "      <td>11.627392</td>\n",
       "      <td>92.2852</td>\n",
       "      <td>92.2852BPM</td>\n",
       "    </tr>\n",
       "    <tr>\n",
       "      <th>17</th>\n",
       "      <td>12.312381</td>\n",
       "      <td>87.5927</td>\n",
       "      <td>87.5927BPM</td>\n",
       "    </tr>\n",
       "    <tr>\n",
       "      <th>18</th>\n",
       "      <td>13.008980</td>\n",
       "      <td>86.1328</td>\n",
       "      <td>86.1328BPM</td>\n",
       "    </tr>\n",
       "    <tr>\n",
       "      <th>19</th>\n",
       "      <td>13.693968</td>\n",
       "      <td>87.5927</td>\n",
       "      <td>87.5927BPM</td>\n",
       "    </tr>\n",
       "    <tr>\n",
       "      <th>20</th>\n",
       "      <td>14.378957</td>\n",
       "      <td>87.5927</td>\n",
       "      <td>87.5927BPM</td>\n",
       "    </tr>\n",
       "    <tr>\n",
       "      <th>21</th>\n",
       "      <td>15.063946</td>\n",
       "      <td>87.5927</td>\n",
       "      <td>87.5927BPM</td>\n",
       "    </tr>\n",
       "    <tr>\n",
       "      <th>22</th>\n",
       "      <td>15.725714</td>\n",
       "      <td>90.6661</td>\n",
       "      <td>90.6661BPM</td>\n",
       "    </tr>\n",
       "    <tr>\n",
       "      <th>23</th>\n",
       "      <td>16.375873</td>\n",
       "      <td>92.2852</td>\n",
       "      <td>92.2852BPM</td>\n",
       "    </tr>\n",
       "    <tr>\n",
       "      <th>24</th>\n",
       "      <td>17.037642</td>\n",
       "      <td>90.6661</td>\n",
       "      <td>90.6661BPM</td>\n",
       "    </tr>\n",
       "    <tr>\n",
       "      <th>25</th>\n",
       "      <td>17.722630</td>\n",
       "      <td>87.5927</td>\n",
       "      <td>87.5927BPM</td>\n",
       "    </tr>\n",
       "    <tr>\n",
       "      <th>26</th>\n",
       "      <td>18.396009</td>\n",
       "      <td>89.1029</td>\n",
       "      <td>89.1029BPM</td>\n",
       "    </tr>\n",
       "    <tr>\n",
       "      <th>27</th>\n",
       "      <td>19.069388</td>\n",
       "      <td>89.1029</td>\n",
       "      <td>89.1029BPM</td>\n",
       "    </tr>\n",
       "    <tr>\n",
       "      <th>28</th>\n",
       "      <td>19.742766</td>\n",
       "      <td>89.1029</td>\n",
       "      <td>89.1029BPM</td>\n",
       "    </tr>\n",
       "    <tr>\n",
       "      <th>29</th>\n",
       "      <td>20.416145</td>\n",
       "      <td>89.1029</td>\n",
       "      <td>89.1029BPM</td>\n",
       "    </tr>\n",
       "  </tbody>\n",
       "</table>\n",
       "</div>"
      ],
      "text/plain": [
       "            0        1           2\n",
       "1    1.503492  87.5927  87.5927BPM\n",
       "2    2.188481  87.5927  87.5927BPM\n",
       "3    2.873469  87.5927  87.5927BPM\n",
       "4    3.558458  87.5927  87.5927BPM\n",
       "5    4.220227  90.6661  90.6661BPM\n",
       "6    4.893605  89.1029  89.1029BPM\n",
       "7    5.566984  89.1029  89.1029BPM\n",
       "8    6.263583  86.1328  86.1328BPM\n",
       "9    6.948571  87.5927  87.5927BPM\n",
       "10   7.633560  87.5927  87.5927BPM\n",
       "11   8.318549  87.5927  87.5927BPM\n",
       "12   8.980317  90.6661  90.6661BPM\n",
       "13   9.653696  89.1029  89.1029BPM\n",
       "14  10.327075  89.1029  89.1029BPM\n",
       "15  10.977234  92.2852  92.2852BPM\n",
       "16  11.627392  92.2852  92.2852BPM\n",
       "17  12.312381  87.5927  87.5927BPM\n",
       "18  13.008980  86.1328  86.1328BPM\n",
       "19  13.693968  87.5927  87.5927BPM\n",
       "20  14.378957  87.5927  87.5927BPM\n",
       "21  15.063946  87.5927  87.5927BPM\n",
       "22  15.725714  90.6661  90.6661BPM\n",
       "23  16.375873  92.2852  92.2852BPM\n",
       "24  17.037642  90.6661  90.6661BPM\n",
       "25  17.722630  87.5927  87.5927BPM\n",
       "26  18.396009  89.1029  89.1029BPM\n",
       "27  19.069388  89.1029  89.1029BPM\n",
       "28  19.742766  89.1029  89.1029BPM\n",
       "29  20.416145  89.1029  89.1029BPM"
      ]
     },
     "execution_count": 19,
     "metadata": {},
     "output_type": "execute_result"
    }
   ],
   "source": [
    "m1"
   ]
  },
  {
   "cell_type": "code",
   "execution_count": 38,
   "metadata": {},
   "outputs": [
    {
     "data": {
      "text/html": [
       "<div>\n",
       "<style scoped>\n",
       "    .dataframe tbody tr th:only-of-type {\n",
       "        vertical-align: middle;\n",
       "    }\n",
       "\n",
       "    .dataframe tbody tr th {\n",
       "        vertical-align: top;\n",
       "    }\n",
       "\n",
       "    .dataframe thead th {\n",
       "        text-align: right;\n",
       "    }\n",
       "</style>\n",
       "<table border=\"1\" class=\"dataframe\">\n",
       "  <thead>\n",
       "    <tr style=\"text-align: right;\">\n",
       "      <th></th>\n",
       "      <th>0</th>\n",
       "      <th>1</th>\n",
       "    </tr>\n",
       "  </thead>\n",
       "  <tbody>\n",
       "    <tr>\n",
       "      <th>0</th>\n",
       "      <td>208</td>\n",
       "      <td>56.716</td>\n",
       "    </tr>\n",
       "    <tr>\n",
       "      <th>1</th>\n",
       "      <td>270</td>\n",
       "      <td>49.137</td>\n",
       "    </tr>\n",
       "    <tr>\n",
       "      <th>2</th>\n",
       "      <td>330</td>\n",
       "      <td>58.568</td>\n",
       "    </tr>\n",
       "    <tr>\n",
       "      <th>3</th>\n",
       "      <td>331</td>\n",
       "      <td>58.557</td>\n",
       "    </tr>\n",
       "    <tr>\n",
       "      <th>4</th>\n",
       "      <td>390</td>\n",
       "      <td>51.579</td>\n",
       "    </tr>\n",
       "    <tr>\n",
       "      <th>...</th>\n",
       "      <td>...</td>\n",
       "      <td>...</td>\n",
       "    </tr>\n",
       "    <tr>\n",
       "      <th>192</th>\n",
       "      <td>9483</td>\n",
       "      <td>58.850</td>\n",
       "    </tr>\n",
       "    <tr>\n",
       "      <th>193</th>\n",
       "      <td>9546</td>\n",
       "      <td>57.439</td>\n",
       "    </tr>\n",
       "    <tr>\n",
       "      <th>194</th>\n",
       "      <td>9612</td>\n",
       "      <td>62.747</td>\n",
       "    </tr>\n",
       "    <tr>\n",
       "      <th>195</th>\n",
       "      <td>9676</td>\n",
       "      <td>56.266</td>\n",
       "    </tr>\n",
       "    <tr>\n",
       "      <th>196</th>\n",
       "      <td>9742</td>\n",
       "      <td>60.848</td>\n",
       "    </tr>\n",
       "  </tbody>\n",
       "</table>\n",
       "<p>197 rows × 2 columns</p>\n",
       "</div>"
      ],
      "text/plain": [
       "        0       1\n",
       "0     208  56.716\n",
       "1     270  49.137\n",
       "2     330  58.568\n",
       "3     331  58.557\n",
       "4     390  51.579\n",
       "..    ...     ...\n",
       "192  9483  58.850\n",
       "193  9546  57.439\n",
       "194  9612  62.747\n",
       "195  9676  56.266\n",
       "196  9742  60.848\n",
       "\n",
       "[197 rows x 2 columns]"
      ]
     },
     "execution_count": 38,
     "metadata": {},
     "output_type": "execute_result"
    }
   ],
   "source": [
    "steps2\n",
    "df[df[0].isin]"
   ]
  },
  {
   "cell_type": "code",
   "execution_count": 46,
   "metadata": {},
   "outputs": [
    {
     "data": {
      "text/plain": [
       "0    46\n",
       "1    46\n",
       "dtype: int64"
      ]
     },
     "execution_count": 46,
     "metadata": {},
     "output_type": "execute_result"
    }
   ],
   "source": [
    "df.loc[(df[0] >= 2630) & (df[0] <= 4900)].count()\n"
   ]
  },
  {
   "cell_type": "code",
   "execution_count": 49,
   "metadata": {},
   "outputs": [
    {
     "data": {
      "text/plain": [
       "0    52\n",
       "1    52\n",
       "dtype: int64"
      ]
     },
     "execution_count": 49,
     "metadata": {},
     "output_type": "execute_result"
    }
   ],
   "source": [
    "df.loc[(df[0] >= 150) & (df[0] <= 2600)].count()"
   ]
  },
  {
   "cell_type": "code",
   "execution_count": 51,
   "metadata": {},
   "outputs": [
    {
     "data": {
      "text/plain": [
       "0    28\n",
       "1    28\n",
       "dtype: int64"
      ]
     },
     "execution_count": 51,
     "metadata": {},
     "output_type": "execute_result"
    }
   ],
   "source": [
    "df.loc[(df[0] >= 3000) & (df[0] <= 4500)].count()\n"
   ]
  },
  {
   "cell_type": "code",
   "execution_count": 52,
   "metadata": {},
   "outputs": [
    {
     "data": {
      "text/plain": [
       "112.0"
      ]
     },
     "execution_count": 52,
     "metadata": {},
     "output_type": "execute_result"
    }
   ],
   "source": [
    "28/((1500/100)/60)"
   ]
  },
  {
   "cell_type": "code",
   "execution_count": 50,
   "metadata": {},
   "outputs": [
    {
     "data": {
      "text/plain": [
       "120.0"
      ]
     },
     "execution_count": 50,
     "metadata": {},
     "output_type": "execute_result"
    }
   ],
   "source": [
    "52/((2600/100)/60)"
   ]
  },
  {
   "cell_type": "code",
   "execution_count": 44,
   "metadata": {},
   "outputs": [
    {
     "data": {
      "text/plain": [
       "0.38333333333333336"
      ]
     },
     "execution_count": 44,
     "metadata": {},
     "output_type": "execute_result"
    }
   ],
   "source": [
    "23/60"
   ]
  },
  {
   "cell_type": "code",
   "execution_count": 48,
   "metadata": {},
   "outputs": [
    {
     "data": {
      "text/plain": [
       "121.05263157894737"
      ]
     },
     "execution_count": 48,
     "metadata": {},
     "output_type": "execute_result"
    }
   ],
   "source": [
    "46/0.38"
   ]
  },
  {
   "cell_type": "code",
   "execution_count": 20,
   "metadata": {},
   "outputs": [
    {
     "data": {
      "text/plain": [
       "88.81797241379309"
      ]
     },
     "execution_count": 20,
     "metadata": {},
     "output_type": "execute_result"
    }
   ],
   "source": [
    "m1[1].mean()"
   ]
  },
  {
   "cell_type": "code",
   "execution_count": 53,
   "metadata": {},
   "outputs": [
    {
     "data": {
      "text/plain": [
       "0    43\n",
       "1    43\n",
       "dtype: int64"
      ]
     },
     "execution_count": 53,
     "metadata": {},
     "output_type": "execute_result"
    }
   ],
   "source": [
    "df.loc[(df[0] >= 7500)].count()"
   ]
  },
  {
   "cell_type": "code",
   "execution_count": 55,
   "metadata": {},
   "outputs": [
    {
     "data": {
      "text/plain": [
       "110.72961373390557"
      ]
     },
     "execution_count": 55,
     "metadata": {},
     "output_type": "execute_result"
    }
   ],
   "source": [
    "43/(((9830-7500)/100)/60)"
   ]
  }
 ],
 "metadata": {
  "kernelspec": {
   "display_name": "Python 3",
   "language": "python",
   "name": "python3"
  },
  "language_info": {
   "codemirror_mode": {
    "name": "ipython",
    "version": 3
   },
   "file_extension": ".py",
   "mimetype": "text/x-python",
   "name": "python",
   "nbconvert_exporter": "python",
   "pygments_lexer": "ipython3",
   "version": "3.11.6"
  }
 },
 "nbformat": 4,
 "nbformat_minor": 2
}
